{
 "cells": [
  {
   "cell_type": "code",
   "execution_count": null,
   "metadata": {},
   "outputs": [],
   "source": [
    "import os\n",
    "from ultralytics import YOLO\n",
    "import cv2"
   ]
  },
  {
   "cell_type": "code",
   "execution_count": null,
   "metadata": {},
   "outputs": [],
   "source": [
    "\"\"\"\n",
    "Вспомогательный срипт для получения кадров видео с учетом.\n",
    "\n",
    "-----------------\n",
    "Входные параметры:\n",
    "VIDEO_FOLDER - путь до директории видео.\n",
    "VIDEO_OUTPUT_FOLDER - путь до директория для препдсказания модели.\n",
    "\n",
    "\n",
    "\"\"\""
   ]
  },
  {
   "cell_type": "code",
   "execution_count": null,
   "metadata": {},
   "outputs": [],
   "source": [
    "VIDEO_FOLDER = \"videos/original\"\n",
    "VIDEO_OUTPUT_FOLDER = \"videos/inf\""
   ]
  },
  {
   "cell_type": "code",
   "execution_count": null,
   "metadata": {},
   "outputs": [],
   "source": [
    "# Load a model\n",
    "model = YOLO('runs/both_det2/weights/best.pt')"
   ]
  },
  {
   "cell_type": "code",
   "execution_count": null,
   "metadata": {},
   "outputs": [],
   "source": [
    "videos = sorted(os.listdir(VIDEO_FOLDER))\n",
    "videos = [video for video in videos if video.endswith((\".mp4\"))]\n",
    "\n",
    "for video in videos:\n",
    "    VIDEO_PATH = os.path.join(VIDEO_FOLDER, video)\n",
    "    VIDEO_OUT = os.path.join(VIDEO_OUTPUT_FOLDER, video)\n",
    "\n",
    "    video_stream_in = cv2.VideoCapture(VIDEO_PATH)\n",
    "\n",
    "    video_width = int(video_stream_in.get(3))\n",
    "    video_height = int(video_stream_in.get(4))\n",
    "    framerate = int(video_stream_in.get(5))\n",
    "    total_frames = int(video_stream_in.get(7))\n",
    "\n",
    "    video_stream_out = cv2.VideoWriter(\n",
    "            filename=VIDEO_OUT,\n",
    "            fourcc=0x7634706D,\n",
    "            fps=framerate,\n",
    "            frameSize=(video_width, video_height),\n",
    "        )\n",
    "\n",
    "\n",
    "    while True:\n",
    "        success, frame = video_stream_in.read()\n",
    "        print(success)\n",
    "        if success:\n",
    "            results = model(frame, conf=0.3)\n",
    "            annotated_frame = results[0].plot()\n",
    "            video_stream_out.write(annotated_frame)\n",
    "        else:\n",
    "            break\n",
    "\n",
    "    video_stream_in.release()\n",
    "    video_stream_out.release()"
   ]
  }
 ],
 "metadata": {
  "language_info": {
   "name": "python"
  },
  "orig_nbformat": 4
 },
 "nbformat": 4,
 "nbformat_minor": 2
}
