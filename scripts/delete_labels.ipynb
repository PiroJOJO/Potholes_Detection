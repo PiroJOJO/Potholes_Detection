{
 "cells": [
  {
   "cell_type": "code",
   "execution_count": 1,
   "metadata": {},
   "outputs": [],
   "source": [
    "from tqdm import tqdm\n",
    "import os"
   ]
  },
  {
   "cell_type": "code",
   "execution_count": 2,
   "metadata": {},
   "outputs": [
    {
     "data": {
      "text/plain": [
       "'\\nВспомогательный срипт для автоматического удаления изображений/лейблов недостающих в одной из директорий.\\n\\n-----------------\\nВходные параметры:\\nIMG_PATH - путь до директории с изображениями.\\nLABEL_PATH - путь до дректории с лейблами.\\n\\n\\n'"
      ]
     },
     "execution_count": 2,
     "metadata": {},
     "output_type": "execute_result"
    }
   ],
   "source": [
    "\"\"\"\n",
    "Вспомогательный срипт для автоматического удаления изображений/лейблов недостающих в одной из директорий.\n",
    "\n",
    "-----------------\n",
    "Входные параметры:\n",
    "IMG_PATH - путь до директории с изображениями.\n",
    "LABEL_PATH - путь до дректории с лейблами.\n",
    "\n",
    "\n",
    "\"\"\""
   ]
  },
  {
   "cell_type": "code",
   "execution_count": 9,
   "metadata": {},
   "outputs": [],
   "source": [
    "IMG_PATH = \"C:/Users/Sofia/Desktop/Detection/dataset_v2.0/train/images/\"\n",
    "LABEL_PATH = \"C:/Users/Sofia/Desktop/Detection/dataset_v2.0/train/labels/\""
   ]
  },
  {
   "cell_type": "code",
   "execution_count": 12,
   "metadata": {},
   "outputs": [
    {
     "name": "stderr",
     "output_type": "stream",
     "text": [
      "100%|██████████| 27823/27823 [00:03<00:00, 7903.59it/s] \n"
     ]
    }
   ],
   "source": [
    "images = os.listdir(IMG_PATH)\n",
    "labels = os.listdir(LABEL_PATH)\n",
    "count = 0\n",
    "for lb in tqdm(labels):\n",
    "    if (os.path.splitext(lb)[0] + '.jpg') not in images:\n",
    "        # count+=1\n",
    "        os.remove(LABEL_PATH + lb)\n",
    "    # print(os.path.splitext(img)[0] + '.txt')"
   ]
  },
  {
   "cell_type": "code",
   "execution_count": 13,
   "metadata": {},
   "outputs": [
    {
     "data": {
      "text/plain": [
       "0"
      ]
     },
     "execution_count": 13,
     "metadata": {},
     "output_type": "execute_result"
    }
   ],
   "source": [
    "count"
   ]
  },
  {
   "cell_type": "code",
   "execution_count": 14,
   "metadata": {},
   "outputs": [
    {
     "name": "stdout",
     "output_type": "stream",
     "text": [
      "Successful deletion of files!\n"
     ]
    }
   ],
   "source": [
    "images = os.listdir(IMG_PATH)\n",
    "labels = os.listdir(LABEL_PATH)\n",
    "\n",
    "if len(images) == len(labels):\n",
    "    print(\"Successful deletion of files!\")\n",
    "else:\n",
    "    print(\"It's time to return backup\")"
   ]
  },
  {
   "cell_type": "code",
   "execution_count": null,
   "metadata": {},
   "outputs": [],
   "source": []
  }
 ],
 "metadata": {
  "kernelspec": {
   "display_name": "Python 3",
   "language": "python",
   "name": "python3"
  },
  "language_info": {
   "codemirror_mode": {
    "name": "ipython",
    "version": 3
   },
   "file_extension": ".py",
   "mimetype": "text/x-python",
   "name": "python",
   "nbconvert_exporter": "python",
   "pygments_lexer": "ipython3",
   "version": "3.9.0"
  },
  "orig_nbformat": 4
 },
 "nbformat": 4,
 "nbformat_minor": 2
}
