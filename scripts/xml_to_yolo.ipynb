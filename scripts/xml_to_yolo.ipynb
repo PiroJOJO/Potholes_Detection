{
 "cells": [
  {
   "cell_type": "code",
   "execution_count": 1,
   "metadata": {},
   "outputs": [],
   "source": [
    "from xml.dom import minidom\n",
    "import os"
   ]
  },
  {
   "cell_type": "code",
   "execution_count": null,
   "metadata": {},
   "outputs": [],
   "source": [
    "\"\"\"\n",
    "Вспомогательный срипт перевода bbox_ов из xml формата в yolo формат.\n",
    "\n",
    "-----------------\n",
    "Входные параметры:\n",
    "PATH_XML - путь до директории с *.xml.\n",
    "PATH_YOLO - путь до дректории с *.txt.\n",
    "\n",
    "\n",
    "\"\"\""
   ]
  },
  {
   "cell_type": "code",
   "execution_count": 2,
   "metadata": {},
   "outputs": [],
   "source": [
    "PATH_XML = \"\"\n",
    "PATH_YOLO = \"\""
   ]
  },
  {
   "cell_type": "code",
   "execution_count": 3,
   "metadata": {},
   "outputs": [],
   "source": [
    "\"\"\" \n",
    "Перевод координат.\n",
    "\"\"\"\n",
    "def convert_coordinates(size, box):\n",
    "    dw = 1.0/size[0]\n",
    "    dh = 1.0/size[1]\n",
    "    x = (box[0]+box[1])/2.0\n",
    "    y = (box[2]+box[3])/2.0\n",
    "    w = box[1]-box[0]\n",
    "    h = box[3]-box[2]\n",
    "    x = x*dw\n",
    "    w = w*dw\n",
    "    y = y*dh\n",
    "    h = h*dh\n",
    "    return (x,y,w,h)"
   ]
  },
  {
   "cell_type": "code",
   "execution_count": 4,
   "metadata": {},
   "outputs": [],
   "source": [
    "xmls = os.listdir(PATH_XML)"
   ]
  },
  {
   "cell_type": "code",
   "execution_count": null,
   "metadata": {},
   "outputs": [],
   "source": [
    "for fname in xmls:\n",
    "        \n",
    "    xmldoc = minidom.parse(PATH_XML + fname)\n",
    "        \n",
    "    fname_out = PATH_YOLO + os.path.splitext(fname)[0] + '.txt'\n",
    "\n",
    "    with open(fname_out, \"w\") as f:\n",
    "\n",
    "        itemlist = xmldoc.getElementsByTagName('object')\n",
    "        size = xmldoc.getElementsByTagName('size')[0]\n",
    "        width = int((size.getElementsByTagName('width')[0]).firstChild.data)\n",
    "        height = int((size.getElementsByTagName('height')[0]).firstChild.data)\n",
    "\n",
    "        for item in itemlist:\n",
    "            classid =  (item.getElementsByTagName('name')[0]).firstChild.data\n",
    "            if len(classid) > 0 :\n",
    "                label_str = str(0)\n",
    "\n",
    "                xmin = ((item.getElementsByTagName('bndbox')[0]).getElementsByTagName('xmin')[0]).firstChild.data\n",
    "                ymin = ((item.getElementsByTagName('bndbox')[0]).getElementsByTagName('ymin')[0]).firstChild.data\n",
    "                xmax = ((item.getElementsByTagName('bndbox')[0]).getElementsByTagName('xmax')[0]).firstChild.data\n",
    "                ymax = ((item.getElementsByTagName('bndbox')[0]).getElementsByTagName('ymax')[0]).firstChild.data\n",
    "                b = (float(xmin), float(xmax), float(ymin), float(ymax))\n",
    "                bb = convert_coordinates((width,height), b)\n",
    "\n",
    "                f.write(label_str + \" \" + \" \".join([(\"%.6f\" % a) for a in bb]) + '\\n')\n",
    "\n",
    "        print (\"wrote %s\" % fname_out)\n"
   ]
  },
  {
   "cell_type": "code",
   "execution_count": 6,
   "metadata": {},
   "outputs": [],
   "source": [
    "import fiftyone as fo\n",
    "import fiftyone.zoo as foz"
   ]
  },
  {
   "cell_type": "code",
   "execution_count": null,
   "metadata": {},
   "outputs": [],
   "source": [
    "\"\"\" \n",
    "Визуализация боксов.\n",
    "\"\"\"\n",
    "dataset = fo.Dataset()\n",
    "\n",
    "for split in [\"train\"]:\n",
    "    dataset.add_dir(dataset_dir=\"dataset_v2.0\", dataset_type=fo.types.YOLOv5Dataset, yaml_path=\"data.yaml\", split=split, tags=split)"
   ]
  },
  {
   "cell_type": "code",
   "execution_count": 10,
   "metadata": {},
   "outputs": [
    {
     "data": {
      "text/html": [
       "\n",
       "        <iframe\n",
       "            width=\"100%\"\n",
       "            height=\"800\"\n",
       "            src=\"http://localhost:5151/?notebook=True&subscription=2774bde5-d371-47c4-bdd5-c877117604e8\"\n",
       "            frameborder=\"0\"\n",
       "            allowfullscreen\n",
       "            \n",
       "        ></iframe>\n",
       "        "
      ],
      "text/plain": [
       "<IPython.lib.display.IFrame at 0x2179b835f40>"
      ]
     },
     "metadata": {},
     "output_type": "display_data"
    },
    {
     "data": {
      "text/plain": [
       "Dataset:          2024.04.19.21.17.44\n",
       "Media type:       image\n",
       "Num samples:      2401\n",
       "Selected samples: 0\n",
       "Selected labels:  0\n",
       "Session URL:      http://localhost:5151/"
      ]
     },
     "execution_count": 10,
     "metadata": {},
     "output_type": "execute_result"
    }
   ],
   "source": [
    "fo.launch_app(dataset)\n"
   ]
  }
 ],
 "metadata": {
  "kernelspec": {
   "display_name": "Python 3",
   "language": "python",
   "name": "python3"
  },
  "language_info": {
   "codemirror_mode": {
    "name": "ipython",
    "version": 3
   },
   "file_extension": ".py",
   "mimetype": "text/x-python",
   "name": "python",
   "nbconvert_exporter": "python",
   "pygments_lexer": "ipython3",
   "version": "3.9.0"
  },
  "orig_nbformat": 4
 },
 "nbformat": 4,
 "nbformat_minor": 2
}
