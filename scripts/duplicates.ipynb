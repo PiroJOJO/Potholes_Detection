{
 "cells": [
  {
   "cell_type": "code",
   "execution_count": 68,
   "id": "47890859",
   "metadata": {},
   "outputs": [],
   "source": [
    "from sklearn.metrics.pairwise import cosine_similarity\n",
    "import fiftyone as fo\n",
    "import fiftyone.zoo as foz\n",
    "from tqdm import tqdm\n",
    "import numpy as np\n",
    "import os"
   ]
  },
  {
   "cell_type": "code",
   "execution_count": 69,
   "id": "4579022e",
   "metadata": {},
   "outputs": [
    {
     "data": {
      "text/plain": [
       "'\\nВспомогательный скрипт для определения наличия дубликатов в датасете.\\n\\n-----------------\\nВходные параметры:\\nIMG_DIR - путь до папки с изображениями.\\n\\n'"
      ]
     },
     "execution_count": 69,
     "metadata": {},
     "output_type": "execute_result"
    }
   ],
   "source": [
    "\"\"\"\n",
    "Вспомогательный скрипт для определения наличия дубликатов в датасете.\n",
    "\n",
    "-----------------\n",
    "Входные параметры:\n",
    "IMG_DIR - путь до папки с изображениями.\n",
    "\n",
    "\"\"\""
   ]
  },
  {
   "cell_type": "code",
   "execution_count": 70,
   "id": "a49fe03e",
   "metadata": {},
   "outputs": [],
   "source": [
    "IMG_DIR = \"\""
   ]
  },
  {
   "cell_type": "code",
   "execution_count": 71,
   "id": "2f6d52f8",
   "metadata": {},
   "outputs": [
    {
     "name": "stdout",
     "output_type": "stream",
     "text": []
    },
    {
     "name": "stdout",
     "output_type": "stream",
     "text": [
      " 100% |███████████████| 2401/2401 [496.0ms elapsed, 0s remaining, 4.9K samples/s]      \n"
     ]
    }
   ],
   "source": [
    "dataset = fo.Dataset.from_images_dir(IMG_DIR)"
   ]
  },
  {
   "cell_type": "code",
   "execution_count": 72,
   "id": "a57d4ae8",
   "metadata": {},
   "outputs": [],
   "source": [
    "model = foz.load_zoo_model(\"mobilenet-v2-imagenet-torch\")"
   ]
  },
  {
   "cell_type": "code",
   "execution_count": 73,
   "id": "6c60fb88",
   "metadata": {},
   "outputs": [
    {
     "name": "stdout",
     "output_type": "stream",
     "text": []
    },
    {
     "name": "stdout",
     "output_type": "stream",
     "text": [
      " 100% |███████████████| 2401/2401 [1.0m elapsed, 0s remaining, 39.0 samples/s]      \n",
      "(2401, 1280)\n"
     ]
    }
   ],
   "source": [
    "\"\"\"\n",
    "Получение имбедингов для дальнейшего сравнения изображений.\n",
    "\"\"\"\n",
    "embeddings = dataset.compute_embeddings(model)\n",
    "\n",
    "print(embeddings.shape)"
   ]
  },
  {
   "cell_type": "code",
   "execution_count": 74,
   "id": "291030bd",
   "metadata": {},
   "outputs": [
    {
     "name": "stdout",
     "output_type": "stream",
     "text": [
      "(2401, 2401)\n",
      "[[1.         0.66629581 0.31211735 ... 0.59349806 0.66387056 0.26144291]\n",
      " [0.66629581 1.         0.22304806 ... 0.47329166 0.51415623 0.19521839]\n",
      " [0.31211735 0.22304806 1.         ... 0.28636364 0.55591165 0.96977667]\n",
      " ...\n",
      " [0.59349806 0.47329166 0.28636364 ... 1.         0.50199478 0.23014394]\n",
      " [0.66387056 0.51415623 0.55591165 ... 0.50199478 1.         0.46038663]\n",
      " [0.26144291 0.19521839 0.96977667 ... 0.23014394 0.46038663 1.        ]]\n"
     ]
    }
   ],
   "source": [
    "\"\"\"\n",
    "Нахождение косинусного расстояния попарно между всеми изображениями (чем больше значение, тем больше схожесть).\n",
    "\"\"\"\n",
    "similarity_matrix = cosine_similarity(embeddings)\n",
    "\n",
    "print(similarity_matrix.shape)\n",
    "print(similarity_matrix)"
   ]
  },
  {
   "cell_type": "code",
   "execution_count": 75,
   "id": "0ef2e887",
   "metadata": {},
   "outputs": [],
   "source": [
    "\"\"\"\n",
    "Исключение проверки схожести на самого себя.\n",
    "\"\"\"\n",
    "n = len(similarity_matrix)\n",
    "\n",
    "similarity_matrix = similarity_matrix - np.identity(n)"
   ]
  },
  {
   "cell_type": "code",
   "execution_count": 76,
   "id": "861b9688",
   "metadata": {},
   "outputs": [],
   "source": [
    "id_map = [s.id for s in dataset.select_fields([\"id\"])]"
   ]
  },
  {
   "cell_type": "code",
   "execution_count": 77,
   "id": "119d5fa5",
   "metadata": {},
   "outputs": [],
   "source": [
    "\"\"\"\n",
    "Нахождение дубликатов по пороговому значению.\n",
    "\"\"\"\n",
    "thresh = 0.96\n",
    "samples_to_remove = set()\n",
    "list_of_duplicates = []\n",
    "\n",
    "for idx, sample in enumerate(dataset):\n",
    "    if sample.id not in samples_to_remove:\n",
    "        \n",
    "        dup_idxs = np.where(similarity_matrix[idx] > thresh)[0]\n",
    "        for dup in dup_idxs:\n",
    "            samples_to_remove.add(id_map[dup])\n",
    "\n",
    "        if len(dup_idxs) > 0:\n",
    "            sample.tags.append(\"has_duplicates\")\n",
    "            sample.save()\n",
    "            list_of_duplicates.append(sample.filepath)\n",
    "\n",
    "    else:\n",
    "        sample.tags.append(\"duplicate\")\n",
    "        sample.save()\n"
   ]
  },
  {
   "cell_type": "code",
   "execution_count": 78,
   "id": "d184f957",
   "metadata": {},
   "outputs": [
    {
     "name": "stdout",
     "output_type": "stream",
     "text": [
      "284\n"
     ]
    }
   ],
   "source": [
    "print(len(list_of_duplicates))"
   ]
  },
  {
   "cell_type": "code",
   "execution_count": 79,
   "id": "2cc077cc",
   "metadata": {},
   "outputs": [
    {
     "name": "stderr",
     "output_type": "stream",
     "text": [
      "100%|█████████████████████████████████████████████████████████████████████████████████████████████████████████████████████████████████████████████████████| 284/284 [00:00<00:00, 20764.24it/s]\n"
     ]
    }
   ],
   "source": [
    "\"\"\"\n",
    "Удаление дубликатов.\n",
    "\"\"\"\n",
    "for dup in tqdm(list_of_duplicates):\n",
    "    os.remove(dup)"
   ]
  },
  {
   "cell_type": "code",
   "execution_count": 80,
   "id": "0c615581",
   "metadata": {},
   "outputs": [
    {
     "name": "stdout",
     "output_type": "stream",
     "text": [
      "2117\n"
     ]
    }
   ],
   "source": [
    "print(len(os.listdir(IMG_DIR)))"
   ]
  },
  {
   "cell_type": "code",
   "execution_count": null,
   "id": "9a7658e7",
   "metadata": {},
   "outputs": [],
   "source": []
  }
 ],
 "metadata": {
  "kernelspec": {
   "display_name": "sonyenv",
   "language": "python",
   "name": "sonyenv"
  },
  "language_info": {
   "codemirror_mode": {
    "name": "ipython",
    "version": 3
   },
   "file_extension": ".py",
   "mimetype": "text/x-python",
   "name": "python",
   "nbconvert_exporter": "python",
   "pygments_lexer": "ipython3",
   "version": "3.10.12"
  }
 },
 "nbformat": 4,
 "nbformat_minor": 5
}
