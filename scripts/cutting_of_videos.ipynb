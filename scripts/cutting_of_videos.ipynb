{
 "cells": [
  {
   "cell_type": "code",
   "execution_count": 2,
   "metadata": {},
   "outputs": [],
   "source": [
    "from tqdm import tqdm\n",
    "import cv2\n",
    "import os"
   ]
  },
  {
   "cell_type": "code",
   "execution_count": null,
   "metadata": {},
   "outputs": [],
   "source": [
    "\"\"\"\n",
    "Вспомогательный срипт для получения кадров видео с учетом.\n",
    "\n",
    "-----------------\n",
    "Входные параметры:\n",
    "VIDEO_PATH - путь до директории видео.\n",
    "SAVE_PATH - путь до директория для кадров.\n",
    "COUNT_FRAMES - количесвто кадров с видео.\n",
    "\n",
    "\"\"\""
   ]
  },
  {
   "cell_type": "code",
   "execution_count": 21,
   "metadata": {},
   "outputs": [],
   "source": [
    "VIDEO_PATH = \"\"\n",
    "SAVE_PATH = \"\"\n",
    "COUNT_FRAMES = 100"
   ]
  },
  {
   "cell_type": "code",
   "execution_count": null,
   "metadata": {},
   "outputs": [],
   "source": [
    "\"\"\"\n",
    "Считываем видео.\n",
    "На основании длительности видео и количества кадров вытаскиваются за вычисленный период изображения.\n",
    "\"\"\"\n",
    "cap = cv2.VideoCapture(VIDEO_PATH)\n",
    "\n",
    "amount_of_frames = cap.get(cv2.CAP_PROP_FRAME_COUNT)\n",
    "amount_of_fps = cap.get(cv2.CAP_PROP_FPS)\n",
    "\n",
    "duration = round(amount_of_frames/ amount_of_fps)\n",
    "timestep = duration / COUNT_FRAMES\n",
    "\n",
    "index = 0\n",
    "count = 0 \n",
    "\n",
    "while True:\n",
    "    res, frame = cap.read()\n",
    "\n",
    "    if not res:\n",
    "        break\n",
    "    if count % int(amount_of_fps * timestep) == 0:\n",
    "        cv2.imwrite(os.path.join(SAVE_PATH, f\"{os.path.splitext(VIDEO_PATH)[0]}_{index}.jpg\"), frame)\n",
    "        index += 1\n",
    "    count += 1"
   ]
  }
 ],
 "metadata": {
  "kernelspec": {
   "display_name": "Python 3",
   "language": "python",
   "name": "python3"
  },
  "language_info": {
   "codemirror_mode": {
    "name": "ipython",
    "version": 3
   },
   "file_extension": ".py",
   "mimetype": "text/x-python",
   "name": "python",
   "nbconvert_exporter": "python",
   "pygments_lexer": "ipython3",
   "version": "3.9.0"
  },
  "orig_nbformat": 4
 },
 "nbformat": 4,
 "nbformat_minor": 2
}
